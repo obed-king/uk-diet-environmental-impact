{
 "cells": [
  {
   "cell_type": "markdown",
   "id": "0431b9e6-f622-4fa6-be73-a28912df77fb",
   "metadata": {},
   "source": [
    "# Generate UK Geo Data For Diet Study\n",
    "## ID – 20620244"
   ]
  },
  {
   "cell_type": "code",
   "execution_count": 8,
   "id": "c318ebc7-9a40-4724-81b8-1d23e87f91fe",
   "metadata": {},
   "outputs": [],
   "source": [
    "import pandas as pd\n",
    "import numpy as np"
   ]
  },
  {
   "cell_type": "code",
   "execution_count": 9,
   "id": "eacc64fd-2d34-419a-98d1-30d19bd821bf",
   "metadata": {},
   "outputs": [],
   "source": [
    "# Load dataset\n",
    "df = pd.read_csv(\"Results_21Mar2022.csv\") #rename to match your dataset file name :) "
   ]
  },
  {
   "cell_type": "code",
   "execution_count": 10,
   "id": "014401ec-557b-412f-a408-01f406d80e28",
   "metadata": {},
   "outputs": [],
   "source": [
    "# UK region-to-city mappings (Major cities only)\n",
    "uk_geo = {\n",
    "    \"England\": [\n",
    "        \"London\", \"Manchester\", \"Birmingham\", \"Liverpool\", \"Leeds\", \"Sheffield\", \"Bristol\",\n",
    "        \"Nottingham\", \"Newcastle upon Tyne\", \"Southampton\", \"Leicester\", \"Portsmouth\", \"Derby\", \"Oxford\"\n",
    "    ],\n",
    "    \"Scotland\": [\"Edinburgh\", \"Glasgow\", \"Aberdeen\", \"Dundee\", \"Inverness\", \"Perth\"],\n",
    "    \"Wales\": [\"Cardiff\", \"Swansea\", \"Newport\", \"Wrexham\", \"Bangor\"],\n",
    "    \"Northern Ireland\": [\"Belfast\", \"Derry\", \"Lisburn\", \"Newry\", \"Bangor\"]\n",
    "}\n",
    "\n",
    "# Flatten full list of all cities and regions\n",
    "all_cities = [(city, region) for region, cities in uk_geo.items() for city in cities]\n",
    "\n",
    "# Shuffle the list and repeat as needed\n",
    "np.random.seed(42)\n",
    "city_region_pairs = all_cities * (len(df) // len(all_cities) + 1)\n",
    "np.random.shuffle(city_region_pairs)\n",
    "\n",
    "# Truncate to match dataset length\n",
    "city_region_pairs = city_region_pairs[:len(df)]\n",
    "\n",
    "# Unpack into new columns\n",
    "df[\"City\"] = [city for city, _ in city_region_pairs]\n",
    "df[\"State/Province\"] = [region for _, region in city_region_pairs]\n",
    "df[\"Country/Region\"] = \"United Kingdom\"\n",
    "\n",
    "# Save to CSV\n",
    "df.to_csv(\"updated_dataset_with_generated_uk_geodata.csv\", index=False)\n"
   ]
  },
  {
   "cell_type": "code",
   "execution_count": null,
   "id": "005be453-6ffc-45f3-9f63-8b22dc6c2048",
   "metadata": {},
   "outputs": [],
   "source": []
  }
 ],
 "metadata": {
  "kernelspec": {
   "display_name": "anaconda-panel-2023.05-py310",
   "language": "python",
   "name": "conda-env-anaconda-panel-2023.05-py310-py"
  },
  "language_info": {
   "codemirror_mode": {
    "name": "ipython",
    "version": 3
   },
   "file_extension": ".py",
   "mimetype": "text/x-python",
   "name": "python",
   "nbconvert_exporter": "python",
   "pygments_lexer": "ipython3",
   "version": "3.11.5"
  }
 },
 "nbformat": 4,
 "nbformat_minor": 5
}
